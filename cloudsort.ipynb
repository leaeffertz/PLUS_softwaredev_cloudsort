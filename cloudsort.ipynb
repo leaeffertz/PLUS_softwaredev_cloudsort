{
 "cells": [
  {
   "cell_type": "markdown",
   "metadata": {},
   "source": [
    "# Sorting an image collection by Cloud Coverage for a small area of interest\n",
    "\n",
    "### Why?\n",
    "\n",
    "### Workflow\n",
    "\n",
    "## Getting started / Defining Date and AOI\n"
   ]
  },
  {
   "cell_type": "code",
   "execution_count": 1,
   "metadata": {},
   "outputs": [
    {
     "name": "stdout",
     "output_type": "stream",
     "text": [
      "Requirement already satisfied: geopandas in c:\\users\\hp probook\\anaconda3\\envs\\gee\\lib\\site-packages (1.0.1)\n",
      "Requirement already satisfied: numpy>=1.22 in c:\\users\\hp probook\\anaconda3\\envs\\gee\\lib\\site-packages (from geopandas) (2.0.0)\n",
      "Requirement already satisfied: pyogrio>=0.7.2 in c:\\users\\hp probook\\anaconda3\\envs\\gee\\lib\\site-packages (from geopandas) (0.9.0)\n",
      "Requirement already satisfied: packaging in c:\\users\\hp probook\\anaconda3\\envs\\gee\\lib\\site-packages (from geopandas) (24.1)\n",
      "Requirement already satisfied: pandas>=1.4.0 in c:\\users\\hp probook\\anaconda3\\envs\\gee\\lib\\site-packages (from geopandas) (2.2.2)\n",
      "Requirement already satisfied: pyproj>=3.3.0 in c:\\users\\hp probook\\anaconda3\\envs\\gee\\lib\\site-packages (from geopandas) (3.6.1)\n",
      "Requirement already satisfied: shapely>=2.0.0 in c:\\users\\hp probook\\anaconda3\\envs\\gee\\lib\\site-packages (from geopandas) (2.0.5)\n",
      "Requirement already satisfied: python-dateutil>=2.8.2 in c:\\users\\hp probook\\anaconda3\\envs\\gee\\lib\\site-packages (from pandas>=1.4.0->geopandas) (2.9.0)\n",
      "Requirement already satisfied: pytz>=2020.1 in c:\\users\\hp probook\\anaconda3\\envs\\gee\\lib\\site-packages (from pandas>=1.4.0->geopandas) (2024.1)\n",
      "Requirement already satisfied: tzdata>=2022.7 in c:\\users\\hp probook\\anaconda3\\envs\\gee\\lib\\site-packages (from pandas>=1.4.0->geopandas) (2024.1)\n",
      "Requirement already satisfied: certifi in c:\\users\\hp probook\\anaconda3\\envs\\gee\\lib\\site-packages (from pyogrio>=0.7.2->geopandas) (2024.7.4)\n",
      "Requirement already satisfied: six>=1.5 in c:\\users\\hp probook\\anaconda3\\envs\\gee\\lib\\site-packages (from python-dateutil>=2.8.2->pandas>=1.4.0->geopandas) (1.16.0)\n",
      "Requirement already satisfied: geemap in c:\\users\\hp probook\\anaconda3\\envs\\gee\\lib\\site-packages (0.33.0)\n",
      "Requirement already satisfied: bqplot in c:\\users\\hp probook\\anaconda3\\envs\\gee\\lib\\site-packages (from geemap) (0.12.43)\n",
      "Requirement already satisfied: colour in c:\\users\\hp probook\\anaconda3\\envs\\gee\\lib\\site-packages (from geemap) (0.1.5)\n",
      "Requirement already satisfied: earthengine-api>=0.1.347 in c:\\users\\hp probook\\anaconda3\\envs\\gee\\lib\\site-packages (from geemap) (0.1.411)\n",
      "Requirement already satisfied: eerepr>=0.0.4 in c:\\users\\hp probook\\anaconda3\\envs\\gee\\lib\\site-packages (from geemap) (0.0.4)\n",
      "Requirement already satisfied: folium>=0.13.0 in c:\\users\\hp probook\\anaconda3\\envs\\gee\\lib\\site-packages (from geemap) (0.17.0)\n",
      "Requirement already satisfied: geocoder in c:\\users\\hp probook\\anaconda3\\envs\\gee\\lib\\site-packages (from geemap) (1.38.1)\n",
      "Requirement already satisfied: ipyevents in c:\\users\\hp probook\\anaconda3\\envs\\gee\\lib\\site-packages (from geemap) (2.0.2)\n",
      "Requirement already satisfied: ipyfilechooser>=0.6.0 in c:\\users\\hp probook\\anaconda3\\envs\\gee\\lib\\site-packages (from geemap) (0.6.0)\n",
      "Requirement already satisfied: ipyleaflet>=0.17.0 in c:\\users\\hp probook\\anaconda3\\envs\\gee\\lib\\site-packages (from geemap) (0.18.2)\n",
      "Requirement already satisfied: ipytree in c:\\users\\hp probook\\anaconda3\\envs\\gee\\lib\\site-packages (from geemap) (0.2.2)\n",
      "Requirement already satisfied: matplotlib in c:\\users\\hp probook\\anaconda3\\envs\\gee\\lib\\site-packages (from geemap) (3.9.1)\n",
      "Requirement already satisfied: numpy in c:\\users\\hp probook\\anaconda3\\envs\\gee\\lib\\site-packages (from geemap) (2.0.0)\n",
      "Requirement already satisfied: pandas in c:\\users\\hp probook\\anaconda3\\envs\\gee\\lib\\site-packages (from geemap) (2.2.2)\n",
      "Requirement already satisfied: plotly in c:\\users\\hp probook\\anaconda3\\envs\\gee\\lib\\site-packages (from geemap) (5.22.0)\n",
      "Requirement already satisfied: pyperclip in c:\\users\\hp probook\\anaconda3\\envs\\gee\\lib\\site-packages (from geemap) (1.9.0)\n",
      "Requirement already satisfied: pyshp>=2.1.3 in c:\\users\\hp probook\\anaconda3\\envs\\gee\\lib\\site-packages (from geemap) (2.3.1)\n",
      "Requirement already satisfied: python-box in c:\\users\\hp probook\\anaconda3\\envs\\gee\\lib\\site-packages (from geemap) (7.2.0)\n",
      "Requirement already satisfied: scooby in c:\\users\\hp probook\\anaconda3\\envs\\gee\\lib\\site-packages (from geemap) (0.10.0)\n",
      "Requirement already satisfied: google-cloud-storage in c:\\users\\hp probook\\anaconda3\\envs\\gee\\lib\\site-packages (from earthengine-api>=0.1.347->geemap) (2.17.0)\n",
      "Requirement already satisfied: google-api-python-client>=1.12.1 in c:\\users\\hp probook\\anaconda3\\envs\\gee\\lib\\site-packages (from earthengine-api>=0.1.347->geemap) (2.137.0)\n",
      "Requirement already satisfied: google-auth>=1.4.1 in c:\\users\\hp probook\\anaconda3\\envs\\gee\\lib\\site-packages (from earthengine-api>=0.1.347->geemap) (2.32.0)\n",
      "Requirement already satisfied: google-auth-httplib2>=0.0.3 in c:\\users\\hp probook\\anaconda3\\envs\\gee\\lib\\site-packages (from earthengine-api>=0.1.347->geemap) (0.2.0)\n",
      "Requirement already satisfied: httplib2<1dev,>=0.9.2 in c:\\users\\hp probook\\anaconda3\\envs\\gee\\lib\\site-packages (from earthengine-api>=0.1.347->geemap) (0.22.0)\n",
      "Requirement already satisfied: requests in c:\\users\\hp probook\\anaconda3\\envs\\gee\\lib\\site-packages (from earthengine-api>=0.1.347->geemap) (2.32.3)\n",
      "Requirement already satisfied: branca>=0.6.0 in c:\\users\\hp probook\\anaconda3\\envs\\gee\\lib\\site-packages (from folium>=0.13.0->geemap) (0.7.2)\n",
      "Requirement already satisfied: jinja2>=2.9 in c:\\users\\hp probook\\anaconda3\\envs\\gee\\lib\\site-packages (from folium>=0.13.0->geemap) (3.1.4)\n",
      "Requirement already satisfied: xyzservices in c:\\users\\hp probook\\anaconda3\\envs\\gee\\lib\\site-packages (from folium>=0.13.0->geemap) (2024.6.0)\n",
      "Requirement already satisfied: ipywidgets in c:\\users\\hp probook\\anaconda3\\envs\\gee\\lib\\site-packages (from ipyfilechooser>=0.6.0->geemap) (8.1.3)\n",
      "Requirement already satisfied: traittypes<3,>=0.2.1 in c:\\users\\hp probook\\anaconda3\\envs\\gee\\lib\\site-packages (from ipyleaflet>=0.17.0->geemap) (0.2.1)\n",
      "Requirement already satisfied: traitlets>=4.3.0 in c:\\users\\hp probook\\anaconda3\\envs\\gee\\lib\\site-packages (from bqplot->geemap) (5.14.3)\n",
      "Requirement already satisfied: python-dateutil>=2.8.2 in c:\\users\\hp probook\\anaconda3\\envs\\gee\\lib\\site-packages (from pandas->geemap) (2.9.0)\n",
      "Requirement already satisfied: pytz>=2020.1 in c:\\users\\hp probook\\anaconda3\\envs\\gee\\lib\\site-packages (from pandas->geemap) (2024.1)\n",
      "Requirement already satisfied: tzdata>=2022.7 in c:\\users\\hp probook\\anaconda3\\envs\\gee\\lib\\site-packages (from pandas->geemap) (2024.1)\n",
      "Requirement already satisfied: ratelim in c:\\users\\hp probook\\anaconda3\\envs\\gee\\lib\\site-packages (from geocoder->geemap) (0.1.6)\n",
      "Requirement already satisfied: click in c:\\users\\hp probook\\anaconda3\\envs\\gee\\lib\\site-packages (from geocoder->geemap) (8.1.7)\n",
      "Requirement already satisfied: six in c:\\users\\hp probook\\anaconda3\\envs\\gee\\lib\\site-packages (from geocoder->geemap) (1.16.0)\n",
      "Requirement already satisfied: future in c:\\users\\hp probook\\anaconda3\\envs\\gee\\lib\\site-packages (from geocoder->geemap) (1.0.0)\n",
      "Requirement already satisfied: contourpy>=1.0.1 in c:\\users\\hp probook\\anaconda3\\envs\\gee\\lib\\site-packages (from matplotlib->geemap) (1.2.1)\n",
      "Requirement already satisfied: cycler>=0.10 in c:\\users\\hp probook\\anaconda3\\envs\\gee\\lib\\site-packages (from matplotlib->geemap) (0.12.1)\n",
      "Requirement already satisfied: fonttools>=4.22.0 in c:\\users\\hp probook\\anaconda3\\envs\\gee\\lib\\site-packages (from matplotlib->geemap) (4.53.1)\n",
      "Requirement already satisfied: kiwisolver>=1.3.1 in c:\\users\\hp probook\\anaconda3\\envs\\gee\\lib\\site-packages (from matplotlib->geemap) (1.4.5)\n",
      "Requirement already satisfied: packaging>=20.0 in c:\\users\\hp probook\\anaconda3\\envs\\gee\\lib\\site-packages (from matplotlib->geemap) (24.1)\n",
      "Requirement already satisfied: pillow>=8 in c:\\users\\hp probook\\anaconda3\\envs\\gee\\lib\\site-packages (from matplotlib->geemap) (10.4.0)\n",
      "Requirement already satisfied: pyparsing>=2.3.1 in c:\\users\\hp probook\\anaconda3\\envs\\gee\\lib\\site-packages (from matplotlib->geemap) (3.1.2)\n",
      "Requirement already satisfied: tenacity>=6.2.0 in c:\\users\\hp probook\\anaconda3\\envs\\gee\\lib\\site-packages (from plotly->geemap) (8.5.0)\n",
      "Requirement already satisfied: google-api-core!=2.0.*,!=2.1.*,!=2.2.*,!=2.3.0,<3.0.0.dev0,>=1.31.5 in c:\\users\\hp probook\\anaconda3\\envs\\gee\\lib\\site-packages (from google-api-python-client>=1.12.1->earthengine-api>=0.1.347->geemap) (2.19.1)\n",
      "Requirement already satisfied: uritemplate<5,>=3.0.1 in c:\\users\\hp probook\\anaconda3\\envs\\gee\\lib\\site-packages (from google-api-python-client>=1.12.1->earthengine-api>=0.1.347->geemap) (4.1.1)\n",
      "Requirement already satisfied: cachetools<6.0,>=2.0.0 in c:\\users\\hp probook\\anaconda3\\envs\\gee\\lib\\site-packages (from google-auth>=1.4.1->earthengine-api>=0.1.347->geemap) (5.4.0)\n",
      "Requirement already satisfied: pyasn1-modules>=0.2.1 in c:\\users\\hp probook\\anaconda3\\envs\\gee\\lib\\site-packages (from google-auth>=1.4.1->earthengine-api>=0.1.347->geemap) (0.4.0)\n",
      "Requirement already satisfied: rsa<5,>=3.1.4 in c:\\users\\hp probook\\anaconda3\\envs\\gee\\lib\\site-packages (from google-auth>=1.4.1->earthengine-api>=0.1.347->geemap) (4.9)\n",
      "Requirement already satisfied: comm>=0.1.3 in c:\\users\\hp probook\\anaconda3\\envs\\gee\\lib\\site-packages (from ipywidgets->ipyfilechooser>=0.6.0->geemap) (0.2.2)\n",
      "Requirement already satisfied: ipython>=6.1.0 in c:\\users\\hp probook\\anaconda3\\envs\\gee\\lib\\site-packages (from ipywidgets->ipyfilechooser>=0.6.0->geemap) (8.26.0)\n",
      "Requirement already satisfied: widgetsnbextension~=4.0.11 in c:\\users\\hp probook\\anaconda3\\envs\\gee\\lib\\site-packages (from ipywidgets->ipyfilechooser>=0.6.0->geemap) (4.0.11)\n",
      "Requirement already satisfied: jupyterlab-widgets~=3.0.11 in c:\\users\\hp probook\\anaconda3\\envs\\gee\\lib\\site-packages (from ipywidgets->ipyfilechooser>=0.6.0->geemap) (3.0.11)\n",
      "Requirement already satisfied: MarkupSafe>=2.0 in c:\\users\\hp probook\\anaconda3\\envs\\gee\\lib\\site-packages (from jinja2>=2.9->folium>=0.13.0->geemap) (2.1.5)\n",
      "Requirement already satisfied: colorama in c:\\users\\hp probook\\anaconda3\\envs\\gee\\lib\\site-packages (from click->geocoder->geemap) (0.4.6)\n",
      "Requirement already satisfied: google-cloud-core<3.0dev,>=2.3.0 in c:\\users\\hp probook\\anaconda3\\envs\\gee\\lib\\site-packages (from google-cloud-storage->earthengine-api>=0.1.347->geemap) (2.4.1)\n",
      "Requirement already satisfied: google-resumable-media>=2.6.0 in c:\\users\\hp probook\\anaconda3\\envs\\gee\\lib\\site-packages (from google-cloud-storage->earthengine-api>=0.1.347->geemap) (2.7.0)\n",
      "Requirement already satisfied: google-crc32c<2.0dev,>=1.0 in c:\\users\\hp probook\\anaconda3\\envs\\gee\\lib\\site-packages (from google-cloud-storage->earthengine-api>=0.1.347->geemap) (1.1.2)\n",
      "Requirement already satisfied: charset-normalizer<4,>=2 in c:\\users\\hp probook\\anaconda3\\envs\\gee\\lib\\site-packages (from requests->earthengine-api>=0.1.347->geemap) (3.3.2)\n",
      "Requirement already satisfied: idna<4,>=2.5 in c:\\users\\hp probook\\anaconda3\\envs\\gee\\lib\\site-packages (from requests->earthengine-api>=0.1.347->geemap) (3.7)\n",
      "Requirement already satisfied: urllib3<3,>=1.21.1 in c:\\users\\hp probook\\anaconda3\\envs\\gee\\lib\\site-packages (from requests->earthengine-api>=0.1.347->geemap) (2.2.2)\n",
      "Requirement already satisfied: certifi>=2017.4.17 in c:\\users\\hp probook\\anaconda3\\envs\\gee\\lib\\site-packages (from requests->earthengine-api>=0.1.347->geemap) (2024.7.4)\n",
      "Requirement already satisfied: decorator in c:\\users\\hp probook\\anaconda3\\envs\\gee\\lib\\site-packages (from ratelim->geocoder->geemap) (5.1.1)\n",
      "Requirement already satisfied: googleapis-common-protos<2.0.dev0,>=1.56.2 in c:\\users\\hp probook\\anaconda3\\envs\\gee\\lib\\site-packages (from google-api-core!=2.0.*,!=2.1.*,!=2.2.*,!=2.3.0,<3.0.0.dev0,>=1.31.5->google-api-python-client>=1.12.1->earthengine-api>=0.1.347->geemap) (1.63.2)\n",
      "Requirement already satisfied: protobuf!=3.20.0,!=3.20.1,!=4.21.0,!=4.21.1,!=4.21.2,!=4.21.3,!=4.21.4,!=4.21.5,<6.0.0.dev0,>=3.19.5 in c:\\users\\hp probook\\anaconda3\\envs\\gee\\lib\\site-packages (from google-api-core!=2.0.*,!=2.1.*,!=2.2.*,!=2.3.0,<3.0.0.dev0,>=1.31.5->google-api-python-client>=1.12.1->earthengine-api>=0.1.347->geemap) (4.25.3)\n",
      "Requirement already satisfied: proto-plus<2.0.0dev,>=1.22.3 in c:\\users\\hp probook\\anaconda3\\envs\\gee\\lib\\site-packages (from google-api-core!=2.0.*,!=2.1.*,!=2.2.*,!=2.3.0,<3.0.0.dev0,>=1.31.5->google-api-python-client>=1.12.1->earthengine-api>=0.1.347->geemap) (1.23.0)\n",
      "Requirement already satisfied: cffi>=1.0.0 in c:\\users\\hp probook\\anaconda3\\envs\\gee\\lib\\site-packages (from google-crc32c<2.0dev,>=1.0->google-cloud-storage->earthengine-api>=0.1.347->geemap) (1.16.0)\n",
      "Requirement already satisfied: jedi>=0.16 in c:\\users\\hp probook\\anaconda3\\envs\\gee\\lib\\site-packages (from ipython>=6.1.0->ipywidgets->ipyfilechooser>=0.6.0->geemap) (0.19.1)\n",
      "Requirement already satisfied: matplotlib-inline in c:\\users\\hp probook\\anaconda3\\envs\\gee\\lib\\site-packages (from ipython>=6.1.0->ipywidgets->ipyfilechooser>=0.6.0->geemap) (0.1.7)\n",
      "Requirement already satisfied: prompt-toolkit<3.1.0,>=3.0.41 in c:\\users\\hp probook\\anaconda3\\envs\\gee\\lib\\site-packages (from ipython>=6.1.0->ipywidgets->ipyfilechooser>=0.6.0->geemap) (3.0.47)\n",
      "Requirement already satisfied: pygments>=2.4.0 in c:\\users\\hp probook\\anaconda3\\envs\\gee\\lib\\site-packages (from ipython>=6.1.0->ipywidgets->ipyfilechooser>=0.6.0->geemap) (2.18.0)\n",
      "Requirement already satisfied: stack-data in c:\\users\\hp probook\\anaconda3\\envs\\gee\\lib\\site-packages (from ipython>=6.1.0->ipywidgets->ipyfilechooser>=0.6.0->geemap) (0.6.2)\n",
      "Requirement already satisfied: pyasn1<0.7.0,>=0.4.6 in c:\\users\\hp probook\\anaconda3\\envs\\gee\\lib\\site-packages (from pyasn1-modules>=0.2.1->google-auth>=1.4.1->earthengine-api>=0.1.347->geemap) (0.6.0)\n",
      "Requirement already satisfied: pycparser in c:\\users\\hp probook\\anaconda3\\envs\\gee\\lib\\site-packages (from cffi>=1.0.0->google-crc32c<2.0dev,>=1.0->google-cloud-storage->earthengine-api>=0.1.347->geemap) (2.22)\n",
      "Requirement already satisfied: parso<0.9.0,>=0.8.3 in c:\\users\\hp probook\\anaconda3\\envs\\gee\\lib\\site-packages (from jedi>=0.16->ipython>=6.1.0->ipywidgets->ipyfilechooser>=0.6.0->geemap) (0.8.4)\n",
      "Requirement already satisfied: wcwidth in c:\\users\\hp probook\\anaconda3\\envs\\gee\\lib\\site-packages (from prompt-toolkit<3.1.0,>=3.0.41->ipython>=6.1.0->ipywidgets->ipyfilechooser>=0.6.0->geemap) (0.2.13)\n",
      "Requirement already satisfied: executing>=1.2.0 in c:\\users\\hp probook\\anaconda3\\envs\\gee\\lib\\site-packages (from stack-data->ipython>=6.1.0->ipywidgets->ipyfilechooser>=0.6.0->geemap) (2.0.1)\n",
      "Requirement already satisfied: asttokens>=2.1.0 in c:\\users\\hp probook\\anaconda3\\envs\\gee\\lib\\site-packages (from stack-data->ipython>=6.1.0->ipywidgets->ipyfilechooser>=0.6.0->geemap) (2.4.1)\n",
      "Requirement already satisfied: pure-eval in c:\\users\\hp probook\\anaconda3\\envs\\gee\\lib\\site-packages (from stack-data->ipython>=6.1.0->ipywidgets->ipyfilechooser>=0.6.0->geemap) (0.2.2)\n"
     ]
    },
    {
     "data": {
      "application/vnd.jupyter.widget-view+json": {
       "model_id": "89f7d0e78e034841b4ad837641ef804f",
       "version_major": 2,
       "version_minor": 0
      },
      "text/plain": [
       "Map(center=[47.92303544098585, 12.945715130262455], controls=(WidgetControl(options=['position', 'transparent_…"
      ]
     },
     "execution_count": 1,
     "metadata": {},
     "output_type": "execute_result"
    }
   ],
   "source": [
    "get_ipython().system('pip install geopandas')\n",
    "\n",
    "get_ipython().system('pip install geemap')\n",
    "\n",
    "import ee\n",
    "import geemap\n",
    "import geopandas as gpd\n",
    "import os\n",
    "\n",
    "#Authenticate and intialize ee\n",
    "ee.Authenticate()\n",
    "\n",
    "ee.Initialize()\n",
    "\n",
    "Map = geemap.Map()\n",
    "\n",
    "Map.add_basemap(\"HYBRID\")\n",
    "\n",
    "Map.add_basemap(\"OpenTopoMap\")\n",
    "\n",
    "Map.add_basemap(\"ROADMAP\")\n",
    "\n",
    "# Create a map object.\n",
    "Map = geemap.Map()\n",
    "\n",
    "# Define the path to the shapefile.\n",
    "shapefile_path ='./Sample_data/Sample_AOI/AOI_Salzachauen_buffer_150m_WGS84_33N.shp'\n",
    "\n",
    "# Load the shapefile using GeoPandas and convert it to Earth Engine object.\n",
    "aoi = geemap.shp_to_ee(shapefile_path)\n",
    "\n",
    "# Add AOI to the map.\n",
    "Map.addLayer(aoi, {}, \"AOI\")\n",
    "Map.centerObject(aoi, 10)\n",
    "\n",
    "# Define the date range for filtering.\n",
    "start_date = '2020-01-01'\n",
    "end_date = '2021-01-01'\n",
    "\n",
    "# Define the Sentinel-2 tile.\n",
    "tile = '33UUP'\n",
    "\n",
    "# Load the Sentinel-2 data and filter by date, bounds, and tile.\n",
    "dataset = ee.ImageCollection('COPERNICUS/S2_SR_HARMONIZED') \\\n",
    "    .filterDate(start_date, end_date) \\\n",
    "    .filterBounds(aoi) \\\n",
    "    .filter(ee.Filter.eq('MGRS_TILE', tile))\n",
    "\n",
    "# Create a median composite of the dataset.\n",
    "composite = dataset.median()\n",
    "\n",
    "# Define the visualization parameters.\n",
    "rgbVis = {\n",
    "    'bands': [\"B4\", \"B3\", \"B2\"],\n",
    "    'min': 0,\n",
    "    'max': 3000\n",
    "}\n",
    "\n",
    "# Add the composite to the map, clipped to the AOI.\n",
    "Map.addLayer(composite.clip(aoi), rgbVis, \"Sentinel-2 RGB\")\n",
    "\n",
    "# Display the map.\n",
    "Map\n"
   ]
  },
  {
   "cell_type": "markdown",
   "metadata": {},
   "source": [
    "## Filtering S2 collection according to user's input"
   ]
  },
  {
   "cell_type": "code",
   "execution_count": null,
   "metadata": {},
   "outputs": [],
   "source": [
    "# 3.Create filtered S2 collection\n",
    "\n",
    "# s2Collection = ... \n",
    "    # filter S2 image collecion by aoi, \n",
    "    # filter s2 image collection by startDate and endDate\n",
    "    # clip each image from the collection by the aoi"
   ]
  },
  {
   "cell_type": "markdown",
   "metadata": {},
   "source": [
    "## Sorting the collection by Cloud coverage (whole images, as Google does it)\n"
   ]
  },
  {
   "cell_type": "code",
   "execution_count": null,
   "metadata": {},
   "outputs": [],
   "source": [
    "# set threshold + parameters -> sort"
   ]
  },
  {
   "cell_type": "markdown",
   "metadata": {},
   "source": [
    "## Sort collection on the cloud-cover percentage within only the AOI"
   ]
  },
  {
   "cell_type": "code",
   "execution_count": null,
   "metadata": {},
   "outputs": [],
   "source": [
    "\"\"\" 4. Calculate the number of cloudy-pixels \n",
    "    in each clipped image and addd the obtained \n",
    "    number to a new band \"\"\""
   ]
  },
  {
   "cell_type": "markdown",
   "metadata": {},
   "source": [
    "## Define new smaller AOI\n"
   ]
  },
  {
   "cell_type": "code",
   "execution_count": null,
   "metadata": {},
   "outputs": [],
   "source": []
  },
  {
   "cell_type": "markdown",
   "metadata": {},
   "source": [
    "## Create Cloud mask on pixel level (Lea)\n"
   ]
  },
  {
   "cell_type": "code",
   "execution_count": null,
   "metadata": {},
   "outputs": [],
   "source": [
    "# search for for clouds\n",
    "\n",
    "# add cloud probability data set?\n",
    "\n",
    "# search for shadows\n",
    "#   - Rule out dark water pixels\n",
    "#   - add cloud shadows to mask\n",
    "\n",
    "# return value for cloud coverage\n",
    "\n",
    "# sort collection by cloud coverage value"
   ]
  },
  {
   "cell_type": "markdown",
   "metadata": {},
   "source": [
    "# Show the resluting sorted image collection\n",
    "\n",
    "? maybe visualize the image with the lowest cloud coverage andd list the others?\n"
   ]
  }
 ],
 "metadata": {
  "kernelspec": {
   "display_name": "Python 3 (ipykernel)",
   "language": "python",
   "name": "python3"
  },
  "language_info": {
   "codemirror_mode": {
    "name": "ipython",
    "version": 3
   },
   "file_extension": ".py",
   "mimetype": "text/x-python",
   "name": "python",
   "nbconvert_exporter": "python",
   "pygments_lexer": "ipython3",
   "version": "3.12.4"
  }
 },
 "nbformat": 4,
 "nbformat_minor": 4
}
