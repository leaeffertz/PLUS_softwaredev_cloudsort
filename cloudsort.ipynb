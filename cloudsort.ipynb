{
 "cells": [
  {
   "cell_type": "markdown",
   "metadata": {},
   "source": [
    "# Sorting an image collection by Cloud Coverage for a small area of interest\n",
    "\n",
    "### Why?\n",
    "\n",
    "### Workflow\n",
    "\n",
    "## Getting started / Defining Date and AOI\n"
   ]
  },
  {
   "cell_type": "code",
   "execution_count": null,
   "metadata": {},
   "outputs": [],
   "source": []
  },

    { 
        "import ee \n":
    "import geemap\n",
    "import geopandas as gpd\n":
    "import os\n",
    "\n":
    "# authenticate and initialize GEE \n",
    "ee.Authenticate()\n":
    "ee.Initialize()\n",
    "\n":
    "# Create a map object.\n",
    "Map = geemap.Map()\n":
    "\n",
    "# Basemap \n":
    "Map.add_basemap(\"HYBRID\")\n",
    "Map.add_basemap(\"OpenTopoMap\")\n":
    "Map.add_basemap(\"ROADMAP\")\n",
    "\n":
    "# Define the path to the shapefile.\n",
    "shapefile_path = 'C:/Users/HP PROBOOK/Downloads/AOI_Salzachauen_buffer_150m_WGS84_33N.shp'\n":
    "\n",
    "# Load the shapefile using GeoPandas and convert it to Earth Engine object.\n":
    "aoi = geemap.shp_to_ee(shapefile_path)\n",
    "\n":
    "# Add AOI to the map.\n",
    "Map.addLayer(aoi, {}, \"AOI\")\n":
    "Map.centerObject(aoi, 10)\n",
    "\n":
    "# Define the date range for filtering.\n",
    "start_date = '2020-01-01'\n":
    "end_date = '2021-01-01'\n",
    "\n":
    "# Define the Sentinel-2 tile.\n",
    "tile = '33UUP'\n":
    "\n",
    "# Load the Sentinel-2 data and filter by date, bounds, and tile.\n":
    "dataset = ee.ImageCollection('COPERNICUS/S2_SR_HARMONIZED') \\\n",
    "    .filterDate(start_date, end_date) \\\n":
    "    .filterBounds(aoi) \\\n",
    "    .filter(ee.Filter.eq('MGRS_TILE', tile))\n":
    "\n",
    "# Create a median composite of the dataset.\n":
    "composite = dataset.median()\n",
    "\n":
    "# Define the visualization parameters.\n",
    "rgbVis = {\n":
    "    'bands': [\"B4\", \"B3\", \"B2\"],\n",
    "    'min': 0,\n":
    "    'max': 3000\n",
    "\n":

   "\n",
    "# Add the composite to the map, clipped to the AOI \n":
    "Map.addLayer(composite.clip(aoi), rgbVis, \"Sentinel-2 RGB\")\n",
    "\n":
    "# Display the map.\n",
    "Map": ""
    }, 
   
  {
   "cell_type": "markdown",
   "metadata": {},
   "source": [
    "## Filtering S2 collection according to user's input"
   ]
  },
  {
   "cell_type": "code",
   "execution_count": null,
   "metadata": {},
   "outputs": [],
   "source": [
    "# 3.Create filtered S2 collection\n",
    "\n",
    "# s2Collection = ... \n",
    "    # filter S2 image collecion by aoi, \n",
    "    # filter s2 image collection by startDate and endDate\n",
    "    # clip each image from the collection by the aoi"
   ]
  },
  {
   "cell_type": "markdown",
   "metadata": {},
   "source": [
    "## Sorting the collection by Cloud coverage (whole images, as Google does it)\n"
   ]
  },
  {
   "cell_type": "code",
   "execution_count": null,
   "metadata": {},
   "outputs": [],
   "source": [
    "# set threshold + parameters -> sort"
   ]
  },
  {
   "cell_type": "markdown",
   "metadata": {},
   "source": [
    "## Sort collection on the cloud-cover percentage within only the AOI"
   ]
  },
  {
   "cell_type": "code",
   "execution_count": null,
   "metadata": {},
   "outputs": [],
   "source": [
    "\"\"\" 4. Calculate the number of cloudy-pixels \n",
    "    in each clipped image and addd the obtained \n",
    "    number to a new band \"\"\""
   ]
  },
  {
   "cell_type": "markdown",
   "metadata": {},
   "source": [
    "## Define new smaller AOI\n"
   ]
  },
  {
   "cell_type": "code",
   "execution_count": null,
   "metadata": {},
   "outputs": [],
   "source": []
  },
  {
   "cell_type": "markdown",
   "metadata": {},
   "source": [
    "## Create Cloud mask on pixel level (Lea)\n"
   ]
  },
  {
   "cell_type": "code",
   "execution_count": null,
   "metadata": {},
   "outputs": [],
   "source": [
    "# search for for clouds\n",
    "\n",
    "# add cloud probability data set?\n",
    "\n",
    "# search for shadows\n",
    "#   - Rule out dark water pixels\n",
    "#   - add cloud shadows to mask\n",
    "\n",
    "# return value for cloud coverage\n",
    "\n",
    "# sort collection by cloud coverage value"
   ]
  },
  {
   "cell_type": "markdown",
   "metadata": {},
   "source": [
    "# Show the resluting sorted image collection\n",
    "\n",
    "? maybe visualize the image with the lowest cloud coverage andd list the others?\n"
   ]
  }
 ],
 "metadata": {
  "language_info": {
   "name": "python"
  }
 },
 "nbformat": 4,
 "nbformat_minor": 2
}
