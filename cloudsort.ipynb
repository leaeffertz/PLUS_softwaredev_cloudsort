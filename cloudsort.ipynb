{
 "cells": [
  {
   "cell_type": "markdown",
   "metadata": {},
   "source": [
    "# Sorting an image collection by Cloud Coverage for a small area of interest\n",
    "\n",
    "### Why?\n",
    "\n",
    "### Workflow\n",
    "\n",
    "## Getting started / Defining Date and AOI\n"
   ]
  },
  {
   "cell_type": "code",
   "execution_count": null,
   "metadata": {},
   "outputs": [],
   "source": [
    "# authenticate and initialize GEE\n",
    "\n",
    "# Set initial AOI, Date-range "
   ]
  },
  {
   "cell_type": "markdown",
   "metadata": {},
   "source": [
    "## Sorting the collection by Cloud coverage\n"
   ]
  },
  {
   "cell_type": "code",
   "execution_count": null,
   "metadata": {},
   "outputs": [],
   "source": [
    "# set thresold + parameters -> sort"
   ]
  },
  {
   "cell_type": "markdown",
   "metadata": {},
   "source": [
    "## Define new smaller AOI\n"
   ]
  },
  {
   "cell_type": "code",
   "execution_count": null,
   "metadata": {},
   "outputs": [],
   "source": []
  },
  {
   "cell_type": "markdown",
   "metadata": {},
   "source": [
    "## Create Cloud mask on pixel level\n"
   ]
  },
  {
   "cell_type": "code",
   "execution_count": null,
   "metadata": {},
   "outputs": [],
   "source": [
    "# search for for clouds\n",
    "\n",
    "# search for shadows\n",
    "#   - Rule out dark water pixels\n",
    "#   - add cloud shadows to mask\n",
    "\n",
    "# return value for cloud coverage\n",
    "\n",
    "# sort collection by cloud coverage value"
   ]
  },
  {
   "cell_type": "markdown",
   "metadata": {},
   "source": [
    "? Add visualisation\n"
   ]
  }
 ],
 "metadata": {
  "language_info": {
   "name": "python"
  }
 },
 "nbformat": 4,
 "nbformat_minor": 2
}
