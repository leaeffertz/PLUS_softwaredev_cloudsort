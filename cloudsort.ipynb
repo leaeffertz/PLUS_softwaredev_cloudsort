{
 "cells": [
  {
   "cell_type": "markdown",
   "metadata": {},
   "source": [
    "# Sorting an image collection by Cloud Coverage for a small area of interest\n",
    "\n",
    "### Why?\n",
    "\n",
    "### Workflow\n",
    "\n",
    "## Getting started / Defining Date and AOI\n"
   ]
  },
  {
   "cell_type": "code",
   "execution_count": null,
   "metadata": {},
   "outputs": [],
   "source": [
    "# 1. authenticate and initialize GEE\n",
    "\n",
    "# 2. Allow user to define variables\n",
    "# aoi = ... 'path to user's file' or 'polygon drawn on the map'\n",
    "# startDate = ... to be defined by user\n",
    "# endDate = ... to be defined by user\n",
    "# tile = ... optional, that the user chooses a tile"
   ]
  },
  {
   "cell_type": "markdown",
   "metadata": {},
   "source": [
    "## Filtering S2 collection according to user's input"
   ]
  },
  {
   "cell_type": "code",
   "execution_count": null,
   "metadata": {},
   "outputs": [],
   "source": [
    "# 3.Create filtered S2 collection\n",
    "\n",
    "# s2Collection = ... \n",
    "    # filter S2 image collecion by aoi, \n",
    "    # filter s2 image collection by startDate and endDate\n",
    "    # clip each image from the collection by the aoi"
   ]
  },
  {
   "cell_type": "markdown",
   "metadata": {},
   "source": [
    "## Sorting the collection by Cloud coverage (whole images, as Google does it)\n"
   ]
  },
  {
   "cell_type": "code",
   "execution_count": null,
   "metadata": {},
   "outputs": [],
   "source": [
    "# set threshold + parameters -> sort"
   ]
  },
  {
   "cell_type": "markdown",
   "metadata": {},
   "source": [
    "## Sort collection on the cloud-cover percentage within only the AOI"
   ]
  },
  {
   "cell_type": "code",
   "execution_count": null,
   "metadata": {},
   "outputs": [],
   "source": [
    "\"\"\" 4. Calculate the number of cloudy-pixels \n",
    "    in each clipped image and addd the obtained \n",
    "    number to a new band \"\"\""
   ]
  },
  {
   "cell_type": "markdown",
   "metadata": {},
   "source": [
    "## Define new smaller AOI\n"
   ]
  },
  {
   "cell_type": "code",
   "execution_count": null,
   "metadata": {},
   "outputs": [],
   "source": []
  },
  {
   "cell_type": "markdown",
   "metadata": {},
   "source": [
    "## Create Cloud mask on pixel level (Lea)\n"
   ]
  },
  {
   "cell_type": "code",
   "execution_count": null,
   "metadata": {},
   "outputs": [],
   "source": [
    "# search for for clouds\n",
    "\n",
    "# add cloud probability data set?\n",
    "\n",
    "# search for shadows\n",
    "#   - Rule out dark water pixels\n",
    "#   - add cloud shadows to mask\n",
    "\n",
    "# return value for cloud coverage\n",
    "\n",
    "# sort collection by cloud coverage value"
   ]
  },
  {
   "cell_type": "markdown",
   "metadata": {},
   "source": [
    "# Show the resluting sorted image collection\n",
    "\n",
    "? maybe visualize the image with the lowest cloud coverage andd list the others?\n"
   ]
  }
 ],
 "metadata": {
  "language_info": {
   "name": "python"
  }
 },
 "nbformat": 4,
 "nbformat_minor": 2
}
