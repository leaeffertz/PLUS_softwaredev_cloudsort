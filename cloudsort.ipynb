{
 "cells": [
  {
   "cell_type": "markdown",
   "metadata": {},
   "source": [
    "# Sorting an image collection by Cloud Coverage for a small area of interest\n",
    "\n",
    "We created this tool to help with finding cloud-free Sentinel-2 (S2) images for an area of interest (AOI). Google Earth Engine allows you to sort S2 images by an image  property called \"CLOUDY_PIXEL_PERCENTAGE\" which represents the percentage of clouds calculated for the entire S2 image. WHen working with small AOIs, however, this approach might filter out cloudy images which are in fact cloud-free for the specific AOI. To remedy this, we decided to create a Jupyter-Notebook, where Sentinel-2 image collection can be sorted based on the cloudiness of a specific AOI, rather than on the one of the overall image.\n",
    "\n",
    "### Workflow\n",
    "\n",
    "If you want to utilize this notebook, you just have to install geopandas and geemap, as well as create a google-earth-engine project, that you want to use and fill in your paramters when needed.\n",
    "You will need:\n",
    "\n",
    "- a Shapefile specifying you aoi (make sure that the shapefile is in a location that can be read from by jupyter)\n",
    "\n",
    "- the date-range you are interested in\n",
    "\n",
    "- optionally: the tile you want to use\n",
    "  and if you want to utilize an s2cloudless dataset to calculate the cloudiness of you pictures, you can later select additional paramters for that if you want to or just stick with the default parameters.\n",
    "\n",
    "If you run the Notebook multiple times and all the layers are all already added to the map, it may be that there is an error that states that there is too much data to display, if this is the case, please just execute the cell you are interested in again, then it should display and render the map without problems.\n",
    "\n",
    "### Accuracy\n",
    "\n",
    "Our model was tested on a AOI of 18 square kilometers in a riparian forest of the Natura 2000 zone Salzachauen, Austria. The results were compared with reference data of cloud-free images obained through visual evaluation. The visual interpratation showed 12 cloud-free images for the year 2020. Dates of the images can be found in Validation_cloudfree_dates.txt file. Since our model sorts images depending on their cloud  cover we filtered and desplayed only the first 12 images of the sorted collection. 9 of those images correpond to the ones identified in the refference data. In the 3 images left, 2 had presence of clouds.\n"
   ]
  },
  {
   "cell_type": "markdown",
   "metadata": {},
   "source": [
    "## Getting started / Install packages/ GEE Authentication\n"
   ]
  },
  {
   "cell_type": "markdown",
   "metadata": {},
   "source": [
    "If you don't have geemap package installed, uncomment the cell code bellow. Then you would need to run it only once to install all packeges with pip and to initialize GEE. However, it is recomendded to do the installation with conda, as well as to create a new working environment first. More information on how to do this can be found on the official site of geemap: https://geemap.org/installation/#install-from-pypi\n"
   ]
  },
  {
   "cell_type": "code",
   "execution_count": 1,
   "metadata": {},
   "outputs": [],
   "source": [
    "# # 1. Install geopandas and geemap\n",
    "\n",
    "#get_ipython().system('pip install geopandas')\n",
    "#get_ipython().system('pip install geemap')\n",
    "\n",
    "# # 2. Authenticate and intialize GEE. This needs to be done only once.\n",
    "\n",
    "import ee\n",
    "\n",
    "ee.Authenticate()\n",
    "\n",
    "ee.Initialize()\n",
    "\n"
   ]
  },
  {
   "cell_type": "code",
   "execution_count": 2,
   "metadata": {},
   "outputs": [],
   "source": [
    "import geemap\n",
    "import geopandas as gpd\n",
    "import os"
   ]
  },
  {
   "cell_type": "markdown",
   "metadata": {},
   "source": [
    "## Input User Parameters\n"
   ]
  },
  {
   "cell_type": "code",
   "execution_count": 3,
   "metadata": {},
   "outputs": [
    {
     "data": {
      "text/html": [
       "\n",
       "            <style>\n",
       "                .geemap-dark {\n",
       "                    --jp-widgets-color: white;\n",
       "                    --jp-widgets-label-color: white;\n",
       "                    --jp-ui-font-color1: white;\n",
       "                    --jp-layout-color2: #454545;\n",
       "                    background-color: #383838;\n",
       "                }\n",
       "\n",
       "                .geemap-dark .jupyter-button {\n",
       "                    --jp-layout-color3: #383838;\n",
       "                }\n",
       "\n",
       "                .geemap-colab {\n",
       "                    background-color: var(--colab-primary-surface-color, white);\n",
       "                }\n",
       "\n",
       "                .geemap-colab .jupyter-button {\n",
       "                    --jp-layout-color3: var(--colab-primary-surface-color, white);\n",
       "                }\n",
       "            </style>\n",
       "            "
      ],
      "text/plain": [
       "<IPython.core.display.HTML object>"
      ]
     },
     "metadata": {},
     "output_type": "display_data"
    }
   ],
   "source": [
    "# # 1. SELECT YOUR OWN STUDY AREA. \n",
    "# Define the path to the shapefile containing your Area Of Interest (AOI)\n",
    "\n",
    "shapefile_path =\"./Sample_data/Sample_AOI/AOI_Salzachauen_buffer_150m_WGS84_33N.shp\"\n",
    "\n",
    "# # 2. SET TIME FRAME. \n",
    "# Choose a start date and an end date for the Sentinel-2 image collection\n",
    "\n",
    "start_date = \"2020-01-01\"\n",
    "end_date = \"2021-01-01\"\n",
    "\n",
    "# # 3. SET SENTINEL-2 PARAMETERS. \n",
    "# If you don't know which tile to use, just comment out the line below.\n",
    "# Then you can run the code once and check in the console tab what tiles there are in the image collection. \n",
    "# The Tile name is the last 6 characters of the image name, excluding the 'T' in the front, which stands for 'Tile'.\n",
    "# If you enter a tile name and you got error check if the name is correct\n",
    "\n",
    "tile = \"33UUP\"\n"
   ]
  },
  {
   "cell_type": "markdown",
   "metadata": {},
   "source": [
    "### Display an interactive map containing users's defined AOI\n"
   ]
  },
  {
   "cell_type": "code",
   "execution_count": 4,
   "metadata": {},
   "outputs": [
    {
     "data": {
      "text/html": [
       "\n",
       "            <style>\n",
       "                .geemap-dark {\n",
       "                    --jp-widgets-color: white;\n",
       "                    --jp-widgets-label-color: white;\n",
       "                    --jp-ui-font-color1: white;\n",
       "                    --jp-layout-color2: #454545;\n",
       "                    background-color: #383838;\n",
       "                }\n",
       "\n",
       "                .geemap-dark .jupyter-button {\n",
       "                    --jp-layout-color3: #383838;\n",
       "                }\n",
       "\n",
       "                .geemap-colab {\n",
       "                    background-color: var(--colab-primary-surface-color, white);\n",
       "                }\n",
       "\n",
       "                .geemap-colab .jupyter-button {\n",
       "                    --jp-layout-color3: var(--colab-primary-surface-color, white);\n",
       "                }\n",
       "            </style>\n",
       "            "
      ],
      "text/plain": [
       "<IPython.core.display.HTML object>"
      ]
     },
     "metadata": {},
     "output_type": "display_data"
    },
    {
     "data": {
      "application/vnd.jupyter.widget-view+json": {
       "model_id": "c52a972b5f294501a802b6e9077e7154",
       "version_major": 2,
       "version_minor": 0
      },
      "text/plain": [
       "Map(center=[47.92303544098585, 12.945715130262455], controls=(WidgetControl(options=['position', 'transparent_…"
      ]
     },
     "execution_count": 4,
     "metadata": {},
     "output_type": "execute_result"
    }
   ],
   "source": [
    "# # Create a map object.\n",
    "Map = geemap.Map()\n",
    "\n",
    "# Load the AOI shapefile using GeoPandas and convert it to Earth Engine object.\n",
    "aoi = geemap.shp_to_ee(shapefile_path)\n",
    "\n",
    "# Add AOI to the map.\n",
    "Map.addLayer(aoi, {}, \"AOI\")\n",
    "Map.centerObject(aoi, 11)\n",
    "\n",
    "# Display the map.\n",
    "Map"
   ]
  },
  {
   "cell_type": "markdown",
   "metadata": {},
   "source": [
    "## Main code\n"
   ]
  },
  {
   "cell_type": "markdown",
   "metadata": {},
   "source": [
    "### Filter and print S2 image collection\n"
   ]
  },
  {
   "cell_type": "code",
   "execution_count": 5,
   "metadata": {},
   "outputs": [
    {
     "data": {
      "text/html": [
       "\n",
       "            <style>\n",
       "                .geemap-dark {\n",
       "                    --jp-widgets-color: white;\n",
       "                    --jp-widgets-label-color: white;\n",
       "                    --jp-ui-font-color1: white;\n",
       "                    --jp-layout-color2: #454545;\n",
       "                    background-color: #383838;\n",
       "                }\n",
       "\n",
       "                .geemap-dark .jupyter-button {\n",
       "                    --jp-layout-color3: #383838;\n",
       "                }\n",
       "\n",
       "                .geemap-colab {\n",
       "                    background-color: var(--colab-primary-surface-color, white);\n",
       "                }\n",
       "\n",
       "                .geemap-colab .jupyter-button {\n",
       "                    --jp-layout-color3: var(--colab-primary-surface-color, white);\n",
       "                }\n",
       "            </style>\n",
       "            "
      ],
      "text/plain": [
       "<IPython.core.display.HTML object>"
      ]
     },
     "metadata": {},
     "output_type": "display_data"
    }
   ],
   "source": [
    "# Load the Sentinel-2 data and filter by date, bounds, and tile. \n",
    "# The collection is also sorted by images cloud cover and then each image is cliped by the aoi\n",
    "col = ee.ImageCollection(\"COPERNICUS/S2_SR_HARMONIZED\")\\\n",
    "    .filterDate(start_date, end_date)\\\n",
    "    .filterBounds(aoi)\\\n",
    "    .filter(ee.Filter.eq(\"MGRS_TILE\", tile))\\\n",
    "    .sort(\"CLOUDY_PIXEL_PERCENTAGE\")\\\n",
    "    .map(lambda image: image.clip(aoi))\n",
    "\n",
    "#show collection\n",
    "#col"
   ]
  },
  {
   "cell_type": "markdown",
   "metadata": {},
   "source": [
    "### Sorting the collection by Cloud coverage (whole images, as Google does it)\n"
   ]
  },
  {
   "cell_type": "code",
   "execution_count": 6,
   "metadata": {},
   "outputs": [
    {
     "data": {
      "text/html": [
       "\n",
       "            <style>\n",
       "                .geemap-dark {\n",
       "                    --jp-widgets-color: white;\n",
       "                    --jp-widgets-label-color: white;\n",
       "                    --jp-ui-font-color1: white;\n",
       "                    --jp-layout-color2: #454545;\n",
       "                    background-color: #383838;\n",
       "                }\n",
       "\n",
       "                .geemap-dark .jupyter-button {\n",
       "                    --jp-layout-color3: #383838;\n",
       "                }\n",
       "\n",
       "                .geemap-colab {\n",
       "                    background-color: var(--colab-primary-surface-color, white);\n",
       "                }\n",
       "\n",
       "                .geemap-colab .jupyter-button {\n",
       "                    --jp-layout-color3: var(--colab-primary-surface-color, white);\n",
       "                }\n",
       "            </style>\n",
       "            "
      ],
      "text/plain": [
       "<IPython.core.display.HTML object>"
      ]
     },
     "metadata": {},
     "output_type": "display_data"
    },
    {
     "name": "stdout",
     "output_type": "stream",
     "text": [
      "aoi_m2:  18132046.34387494\n",
      "aoi_km2:  18.13204634387494\n",
      "max_cloud_percentage:  99.81867953656125\n"
     ]
    }
   ],
   "source": [
    "## Calcualte what percentage of a Sentinel-2 image has to be cloud free in order to cover users's area of interest\n",
    "\n",
    "#  1. Calculate the AOI area in square meters and kilometers. 1 in area(1) refers to the error margin = 1m\n",
    "aoi_geometry = aoi.geometry() # Ensure the AOI is an ee.Geometry object\n",
    "aoi_m2 = aoi_geometry.area(1).getInfo() # here 1 in area(1) refers to the error margin = 1m\n",
    "aoi_km2 = aoi_m2/1000000 # the function area() returns results in m2 which is why we need to convert to km2\n",
    "print(\"aoi_m2: \", aoi_m2)\n",
    "print(\"aoi_km2: \", aoi_km2)\n",
    "\n",
    "# 2. Maximum cloud cover to be allowed in a S2 image = S2 image area - aoi area \n",
    "# If there is more cloud cover than this, it will for sure cover also the aoi area \n",
    "s2_image_km2 = 10000 # Area of a single sentinel image (tile) cover 100 x 100 km = 10 000 km2\n",
    "max_cloud_percentage = 100 - ((aoi_km2*100)/s2_image_km2)\n",
    "print(\"max_cloud_percentage: \", max_cloud_percentage)"
   ]
  },
  {
   "cell_type": "code",
   "execution_count": 7,
   "metadata": {},
   "outputs": [
    {
     "data": {
      "text/html": [
       "\n",
       "            <style>\n",
       "                .geemap-dark {\n",
       "                    --jp-widgets-color: white;\n",
       "                    --jp-widgets-label-color: white;\n",
       "                    --jp-ui-font-color1: white;\n",
       "                    --jp-layout-color2: #454545;\n",
       "                    background-color: #383838;\n",
       "                }\n",
       "\n",
       "                .geemap-dark .jupyter-button {\n",
       "                    --jp-layout-color3: #383838;\n",
       "                }\n",
       "\n",
       "                .geemap-colab {\n",
       "                    background-color: var(--colab-primary-surface-color, white);\n",
       "                }\n",
       "\n",
       "                .geemap-colab .jupyter-button {\n",
       "                    --jp-layout-color3: var(--colab-primary-surface-color, white);\n",
       "                }\n",
       "            </style>\n",
       "            "
      ],
      "text/plain": [
       "<IPython.core.display.HTML object>"
      ]
     },
     "metadata": {},
     "output_type": "display_data"
    }
   ],
   "source": [
    "# set threshold + parameters -> sort\n",
    "col_sort = col.filter(ee.Filter.lt(\"CLOUDY_PIXEL_PERCENTAGE\", max_cloud_percentage))\n",
    "\n",
    "#show collection\n",
    "#col_sort"
   ]
  },
  {
   "cell_type": "markdown",
   "metadata": {},
   "source": [
    "### Cloud masking using the Sentinel-2 quality assurance band (QA60) and sorting the collection\n",
    "\n",
    "To determine the images with the least clouds for our aoi, the Quality assurance band can be used. The `QA60`-band is a bitmask that stores cloud mask information, where `0` represents no opaque clouds being present and `1` represents opaque clouds being present.\n",
    "\n",
    "A bitqwise shift operatrion is used to isolate the the bit and then converts it into binary format. The resulting mask is then clipped to the area of interest and afterwards the percentage of clouds withion the aoi is calculated for each image. Lastly the percentages are added as a property to the collection and the collection is sorted by said value.\n",
    "\n",
    "The cloudsort using the `QA60`-band is quite simple, the drawback however is that it is not very flexible. It is better suited for simple operations and smaller areas of interest, where the likelihood of images of the aoi without any cloud coverage being present is greater.\n"
   ]
  },
  {
   "cell_type": "code",
   "execution_count": 8,
   "metadata": {},
   "outputs": [
    {
     "data": {
      "text/html": [
       "\n",
       "            <style>\n",
       "                .geemap-dark {\n",
       "                    --jp-widgets-color: white;\n",
       "                    --jp-widgets-label-color: white;\n",
       "                    --jp-ui-font-color1: white;\n",
       "                    --jp-layout-color2: #454545;\n",
       "                    background-color: #383838;\n",
       "                }\n",
       "\n",
       "                .geemap-dark .jupyter-button {\n",
       "                    --jp-layout-color3: #383838;\n",
       "                }\n",
       "\n",
       "                .geemap-colab {\n",
       "                    background-color: var(--colab-primary-surface-color, white);\n",
       "                }\n",
       "\n",
       "                .geemap-colab .jupyter-button {\n",
       "                    --jp-layout-color3: var(--colab-primary-surface-color, white);\n",
       "                }\n",
       "            </style>\n",
       "            "
      ],
      "text/plain": [
       "<IPython.core.display.HTML object>"
      ]
     },
     "metadata": {},
     "output_type": "display_data"
    }
   ],
   "source": [
    "# Convert the aoi-feature collection into a geometry, if not done already\n",
    "#aoi_geometry = aoi.geometry()\n",
    "\n",
    "\n",
    "def calc_cloud_coverage(image):\n",
    "\n",
    "    # Calculate binary mask with cloud values from QA60-band\n",
    "    cloud_mask = image.select(\"QA60\").bitwiseAnd(1 << 10).neq(0)\n",
    "\n",
    "    # Clip cloud mask to aoi, aggregate values over region -> calculate pixels in aoi\n",
    "    cloud_area = cloud_mask.clip(aoi_geometry).reduceRegion(\n",
    "        # Sum up cloud mask values (how many cloud-values are present)\n",
    "        reducer=ee.Reducer.sum(),\n",
    "        # specify aoi as area where reduction takes place\n",
    "        geometry=aoi_geometry,\n",
    "        # set maximum number of pixels to consider\n",
    "        maxPixels=1e9\n",
    "    # retrieve number of cloudy pixels within the aoi\n",
    "    ).get(\"QA60\")\n",
    "\n",
    "    # convert object into number & calculate the area of the aoi in square meters\n",
    "    total_area = ee.Number(aoi_geometry.area())\n",
    "\n",
    "    # Get fraction of aoi covered in clouds, convert to percentage\n",
    "    cloud_coverage = ee.Number(cloud_area).divide(total_area).multiply(100)\n",
    "\n",
    "    # add cloud coverage to image as a property\n",
    "    return image.set(\"aoi_cloud_coverage\", cloud_coverage)\n",
    "\n",
    "# Iterate over the collection to add cloud coverage\n",
    "col_sort_aoi = col.map(calc_cloud_coverage)\n",
    "\n",
    "# Sort by cloud coverage within the aoi\n",
    "sorted_collection = col.sort(\"aoi_cloud_coverage\")\n",
    "\n",
    "#show collection\n",
    "#sorted_collection\n"
   ]
  },
  {
   "cell_type": "markdown",
   "metadata": {},
   "source": [
    "### Visualize the 5 most cloud free images from the cloud mask created with the Sentinel-2 Quality-assurance-band\n"
   ]
  },
  {
   "cell_type": "code",
   "execution_count": null,
   "metadata": {},
   "outputs": [],
   "source": [
    "# Define a number of images (X) to be visualized\n",
    "\n",
    "num_img = 5 \n",
    "\n",
    "# Visualize the first (X) images of the sorted cloud free S2 collection\n",
    "\n",
    "images_list = sorted_collection.toList(num_img)\n",
    "for i in range(num_img):\n",
    "    image = ee.Image(images_list.get(i))\n",
    "    # Obtain information for the date of the image\n",
    "    date = image.date().format('yyyy_MM_dd').getInfo()\n",
    "    # Define visualization parameters (adjust as needed)\n",
    "    vis_params = {\n",
    "        \"bands\": [\"B4\", \"B3\", \"B2\"],  # True color composite\n",
    "        \"min\": 0,\n",
    "        \"max\": 3000,\n",
    "        \"gamma\": 1.4\n",
    "     }\n",
    "     # Add the image to the map\n",
    "    Map.addLayer(image, vis_params, f\"i{i+1}_{date}_QA60\")\n",
    "    Map.centerObject(aoi, 11)\n",
    "\n",
    "Map"
   ]
  },
  {
   "cell_type": "markdown",
   "metadata": {},
   "source": [
    "For a small area of interest this approach works, as it is very likely that there are cloud free images to work with, if we want to work with a larger area of interest, we can work with s2cloudless, which works using the cloud probability band, allowing the user to manually adapt what is considered a cloud, which may be useful, as the QA60 band essentially only uses binary classifiers, which results in some values potentially being mislabelled, thin clouds or cloud shadows for example.\n",
    "\n",
    "using s2cloudless grants greater flexibility, but also needs more fine-tuning, as the selection of the cloud-threshold, that is best suited varies depending on the cloud type and the location. This means, some trial and error to set a suitable percentage may be needed.\n"
   ]
  },
  {
   "cell_type": "markdown",
   "metadata": {},
   "source": [
    "### Cloud masking using s2cloudless and sorting the collection\n",
    "\n",
    "For this approach, the cloud cloud probability band of the s2cloudless-collection is used. It stores information about the occurence of clouds, similarly to the QA60 band, but with this approach more can be customized, we can set the threshold for images to be considered, as well as the size of the buffer around the detected clouds and from what threshold on dark pixels should be considered as cloud-shadows, this allows, like stated previously for more flexibility, but the parameters are dependent on the image you are using, the types of clouds apparent and the area of interests traits.\n",
    "\n",
    "We start by setting the paramters needed and joining the two collections:\n"
   ]
  },
  {
   "cell_type": "code",
   "execution_count": 9,
   "metadata": {},
   "outputs": [
    {
     "data": {
      "text/html": [
       "\n",
       "            <style>\n",
       "                .geemap-dark {\n",
       "                    --jp-widgets-color: white;\n",
       "                    --jp-widgets-label-color: white;\n",
       "                    --jp-ui-font-color1: white;\n",
       "                    --jp-layout-color2: #454545;\n",
       "                    background-color: #383838;\n",
       "                }\n",
       "\n",
       "                .geemap-dark .jupyter-button {\n",
       "                    --jp-layout-color3: #383838;\n",
       "                }\n",
       "\n",
       "                .geemap-colab {\n",
       "                    background-color: var(--colab-primary-surface-color, white);\n",
       "                }\n",
       "\n",
       "                .geemap-colab .jupyter-button {\n",
       "                    --jp-layout-color3: var(--colab-primary-surface-color, white);\n",
       "                }\n",
       "            </style>\n",
       "            "
      ],
      "text/plain": [
       "<IPython.core.display.HTML object>"
      ]
     },
     "metadata": {},
     "output_type": "display_data"
    }
   ],
   "source": [
    "# Define Additonal Parameters for cloud masking\n",
    "cloud_probability_threshold = 50  # Cloud probability threshold\n",
    "NIR_dark_threshold = 0.15       # Near-infrared dark threshold for cloud shadow detection\n",
    "cloud_proj_distance = 1            # Cloud projection distance\n",
    "buffer = 50                 # buffer distance to mask small clouds"
   ]
  },
  {
   "cell_type": "code",
   "execution_count": 10,
   "metadata": {},
   "outputs": [
    {
     "data": {
      "text/html": [
       "\n",
       "            <style>\n",
       "                .geemap-dark {\n",
       "                    --jp-widgets-color: white;\n",
       "                    --jp-widgets-label-color: white;\n",
       "                    --jp-ui-font-color1: white;\n",
       "                    --jp-layout-color2: #454545;\n",
       "                    background-color: #383838;\n",
       "                }\n",
       "\n",
       "                .geemap-dark .jupyter-button {\n",
       "                    --jp-layout-color3: #383838;\n",
       "                }\n",
       "\n",
       "                .geemap-colab {\n",
       "                    background-color: var(--colab-primary-surface-color, white);\n",
       "                }\n",
       "\n",
       "                .geemap-colab .jupyter-button {\n",
       "                    --jp-layout-color3: var(--colab-primary-surface-color, white);\n",
       "                }\n",
       "            </style>\n",
       "            "
      ],
      "text/plain": [
       "<IPython.core.display.HTML object>"
      ]
     },
     "metadata": {},
     "output_type": "display_data"
    }
   ],
   "source": [
    "def get_s2_cloudless_col(aoi, start_date, end_date):\n",
    "    # Dince we already filtered the s2-image collection we do not have to add itt here again, we can just call the colelction with \"col\"\n",
    "    \n",
    "    # Filter s2cloudless collection\n",
    "    s2_cloudless_col = ee.ImageCollection(\"COPERNICUS/S2_CLOUD_PROBABILITY\").filterBounds(aoi).filterDate(start_date, end_date)\n",
    "    \n",
    "    #Join collections based on system:index\n",
    "    return ee.ImageCollection(ee.Join.saveFirst(\"s2cloudless\").apply(**{\n",
    "        \"primary\": col,\n",
    "        \"secondary\": s2_cloudless_col,\n",
    "        \"condition\": ee.Filter.equals(leftField=\"system:index\", rightField=\"system:index\")\n",
    "    }))\n",
    "\n",
    "#get and deisplay joined collection\n",
    "s2_cloudless_joined_col = get_s2_cloudless_col(aoi, start_date, end_date)\n",
    "\n",
    "#show collection\n",
    "#s2_cloudless_joined_col"
   ]
  },
  {
   "cell_type": "markdown",
   "metadata": {},
   "source": [
    "We then proceed to create a cloud mask for the area of interest, selecting the cloud probability band from each image and calculating the cloud percentage of each image.\n"
   ]
  },
  {
   "cell_type": "code",
   "execution_count": 11,
   "metadata": {},
   "outputs": [
    {
     "data": {
      "text/html": [
       "\n",
       "            <style>\n",
       "                .geemap-dark {\n",
       "                    --jp-widgets-color: white;\n",
       "                    --jp-widgets-label-color: white;\n",
       "                    --jp-ui-font-color1: white;\n",
       "                    --jp-layout-color2: #454545;\n",
       "                    background-color: #383838;\n",
       "                }\n",
       "\n",
       "                .geemap-dark .jupyter-button {\n",
       "                    --jp-layout-color3: #383838;\n",
       "                }\n",
       "\n",
       "                .geemap-colab {\n",
       "                    background-color: var(--colab-primary-surface-color, white);\n",
       "                }\n",
       "\n",
       "                .geemap-colab .jupyter-button {\n",
       "                    --jp-layout-color3: var(--colab-primary-surface-color, white);\n",
       "                }\n",
       "            </style>\n",
       "            "
      ],
      "text/plain": [
       "<IPython.core.display.HTML object>"
      ]
     },
     "metadata": {},
     "output_type": "display_data"
    }
   ],
   "source": [
    "def add_cloud_bands(img):\n",
    "    # Get probability from s2cloudless dataset\n",
    "    cloud_probability = ee.Image(img.get(\"s2cloudless\")).select(\"probability\")\n",
    "    \n",
    "    # Identify pixels\n",
    "    is_cloud = cloud_probability.gt(cloud_probability_threshold).rename(\"clouds\")\n",
    "    \n",
    "    # Add probability and mask as bands\n",
    "    return img.addBands(ee.Image([cloud_probability, is_cloud]))\n",
    "\n",
    "def calculate_cloud_coverage(img):\n",
    "    # call function to add cloud bands to img\n",
    "    img = add_cloud_bands(img)\n",
    "    \n",
    "    ## Clip cloud mask to aoi, aggregate values over region -> calculate pixels in aoi\n",
    "    total_pixels = ee.Number(img.clip(aoi).reduceRegion(\n",
    "        reducer=ee.Reducer.count(),\n",
    "        geometry=aoi.geometry(),\n",
    "        scale=10,\n",
    "        maxPixels=1e9\n",
    "    ).values().get(0))\n",
    "    \n",
    "    # Calculate cloud pixels in aoi\n",
    "    cloud_pixels = ee.Number(img.select(\"clouds\").clip(aoi).reduceRegion(\n",
    "        reducer=ee.Reducer.count(),\n",
    "        geometry=aoi.geometry(),\n",
    "        scale=10,\n",
    "        maxPixels=1e9\n",
    "    ).values().get(0))\n",
    "    \n",
    "    # Get fraction of pixels identified as clouds, convert to percentage\n",
    "    cloud_coverage = cloud_pixels.divide(total_pixels).multiply(100)\n",
    "    \n",
    "    # Add the cloud coverage as image property\n",
    "    return img.set(\"cloud_coverage\", cloud_coverage)"
   ]
  },
  {
   "cell_type": "markdown",
   "metadata": {},
   "source": [
    "Lastly we execute the functins created earlier, to iterate over each image in the collection by cloud coverage.\n"
   ]
  },
  {
   "cell_type": "code",
   "execution_count": 12,
   "metadata": {},
   "outputs": [
    {
     "data": {
      "text/html": [
       "\n",
       "            <style>\n",
       "                .geemap-dark {\n",
       "                    --jp-widgets-color: white;\n",
       "                    --jp-widgets-label-color: white;\n",
       "                    --jp-ui-font-color1: white;\n",
       "                    --jp-layout-color2: #454545;\n",
       "                    background-color: #383838;\n",
       "                }\n",
       "\n",
       "                .geemap-dark .jupyter-button {\n",
       "                    --jp-layout-color3: #383838;\n",
       "                }\n",
       "\n",
       "                .geemap-colab {\n",
       "                    background-color: var(--colab-primary-surface-color, white);\n",
       "                }\n",
       "\n",
       "                .geemap-colab .jupyter-button {\n",
       "                    --jp-layout-color3: var(--colab-primary-surface-color, white);\n",
       "                }\n",
       "            </style>\n",
       "            "
      ],
      "text/plain": [
       "<IPython.core.display.HTML object>"
      ]
     },
     "metadata": {},
     "output_type": "display_data"
    }
   ],
   "source": [
    "# Iterate over collection to apply the cloud coverage calculation to each image\n",
    "s2c_collection_with_coverage = s2_cloudless_joined_col.map(calculate_cloud_coverage)\n",
    "\n",
    "# Sort collection by cloud coverage\n",
    "s2c_sorted_collection = s2c_collection_with_coverage.sort(\"cloud_coverage\")"
   ]
  },
  {
   "cell_type": "markdown",
   "metadata": {},
   "source": [
    "### Visualize the 5 most cloud free images from the cloud mask created with s2cloudless\n"
   ]
  },
  {
   "cell_type": "code",
   "execution_count": 15,
   "metadata": {},
   "outputs": [
    {
     "data": {
      "text/html": [
       "\n",
       "            <style>\n",
       "                .geemap-dark {\n",
       "                    --jp-widgets-color: white;\n",
       "                    --jp-widgets-label-color: white;\n",
       "                    --jp-ui-font-color1: white;\n",
       "                    --jp-layout-color2: #454545;\n",
       "                    background-color: #383838;\n",
       "                }\n",
       "\n",
       "                .geemap-dark .jupyter-button {\n",
       "                    --jp-layout-color3: #383838;\n",
       "                }\n",
       "\n",
       "                .geemap-colab {\n",
       "                    background-color: var(--colab-primary-surface-color, white);\n",
       "                }\n",
       "\n",
       "                .geemap-colab .jupyter-button {\n",
       "                    --jp-layout-color3: var(--colab-primary-surface-color, white);\n",
       "                }\n",
       "            </style>\n",
       "            "
      ],
      "text/plain": [
       "<IPython.core.display.HTML object>"
      ]
     },
     "metadata": {},
     "output_type": "display_data"
    },
    {
     "data": {
      "application/vnd.jupyter.widget-view+json": {
       "model_id": "c52a972b5f294501a802b6e9077e7154",
       "version_major": 2,
       "version_minor": 0
      },
      "text/plain": [
       "Map(bottom=182717.0, center=[47.92303544098585, 12.945715130262455], controls=(WidgetControl(options=['positio…"
      ]
     },
     "execution_count": 15,
     "metadata": {},
     "output_type": "execute_result"
    }
   ],
   "source": [
    "# Define a number of images (X) to be visualized\n",
    "\n",
    "num_img = 5 \n",
    "\n",
    "# Visualize the first (X) images of the sorted cloud free S2 collection\n",
    "images_list = s2c_sorted_collection.toList(num_img)\n",
    "for i in range(num_img):\n",
    "    image = ee.Image(images_list.get(i))\n",
    "    # Obtain information for the date of the image\n",
    "    date = image.date().format('YYYY-MM-dd').getInfo()\n",
    "    # Define visualization parameters (adjust as needed)\n",
    "    vis_params = {\n",
    "        \"bands\": [\"B4\", \"B3\", \"B2\"],  # True color composite\n",
    "        \"min\": 0,\n",
    "        \"max\": 3000,\n",
    "        \"gamma\": 1.4\n",
    "     }\n",
    "     # Add the image to the map\n",
    "    Map.addLayer(image, vis_params, f\"i{i+1}_{date}_s2c\")\n",
    "    Map.centerObject(aoi, 11)\n",
    "\n",
    "Map"
   ]
  },
  {
   "cell_type": "code",
   "execution_count": null,
   "metadata": {},
   "outputs": [],
   "source": []
  }
 ],
 "metadata": {
  "kernelspec": {
   "display_name": "Python 3 (ipykernel)",
   "language": "python",
   "name": "python3"
  },
  "language_info": {
   "codemirror_mode": {
    "name": "ipython",
    "version": 3
   },
   "file_extension": ".py",
   "mimetype": "text/x-python",
   "name": "python",
   "nbconvert_exporter": "python",
   "pygments_lexer": "ipython3",
   "version": "3.11.9"
  }
 },
 "nbformat": 4,
 "nbformat_minor": 4
}
